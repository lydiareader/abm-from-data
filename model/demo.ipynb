{
 "cells": [
  {
   "cell_type": "code",
   "execution_count": 1,
   "metadata": {},
   "outputs": [],
   "source": [
    "from BeeModel import BeeModel"
   ]
  },
  {
   "cell_type": "code",
   "execution_count": 2,
   "metadata": {},
   "outputs": [],
   "source": [
    "model = BeeModel(1, 50, 50)"
   ]
  },
  {
   "cell_type": "code",
   "execution_count": 3,
   "metadata": {},
   "outputs": [
    {
     "data": {
      "text/plain": [
       "(14, 45)"
      ]
     },
     "execution_count": 3,
     "metadata": {},
     "output_type": "execute_result"
    }
   ],
   "source": [
    "model.bees[0].pos"
   ]
  },
  {
   "cell_type": "code",
   "execution_count": 4,
   "metadata": {},
   "outputs": [
    {
     "name": "stdout",
     "output_type": "stream",
     "text": [
      "(13, 45) (13, 45)\n",
      "(13, 46) (13, 46)\n",
      "(14, 46) (14, 46)\n",
      "(14, 45) (14, 45)\n",
      "(15, 45) (15, 45)\n",
      "(16, 45) (16, 45)\n",
      "(15, 45) (15, 45)\n",
      "(14, 45) (14, 45)\n",
      "(15, 45) (15, 45)\n",
      "(15, 44) (15, 44)\n",
      "(15, 43) (15, 43)\n",
      "(15, 42) (15, 42)\n",
      "(14, 42) (14, 42)\n",
      "(14, 41) (14, 41)\n",
      "(14, 42) (14, 42)\n",
      "(15, 42) (15, 42)\n",
      "(14, 42) (14, 42)\n",
      "(14, 41) (14, 41)\n",
      "(15, 41) (15, 41)\n",
      "(16, 41) (16, 41)\n",
      "(17, 41) (17, 41)\n",
      "(17, 40) (17, 40)\n",
      "(17, 41) (17, 41)\n",
      "(17, 42) (17, 42)\n",
      "(18, 42) (18, 42)\n"
     ]
    }
   ],
   "source": [
    "for _ in range(25):\n",
    "    model.step()\n",
    "    print(model.bees[0].pos, model.bees[0].previous_pos)"
   ]
  }
 ],
 "metadata": {
  "kernelspec": {
   "display_name": ".venv",
   "language": "python",
   "name": "python3"
  },
  "language_info": {
   "codemirror_mode": {
    "name": "ipython",
    "version": 3
   },
   "file_extension": ".py",
   "mimetype": "text/x-python",
   "name": "python",
   "nbconvert_exporter": "python",
   "pygments_lexer": "ipython3",
   "version": "3.10.8"
  },
  "orig_nbformat": 4
 },
 "nbformat": 4,
 "nbformat_minor": 2
}
