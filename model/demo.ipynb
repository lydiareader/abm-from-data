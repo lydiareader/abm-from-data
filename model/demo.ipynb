{
 "cells": [
  {
   "cell_type": "code",
   "execution_count": 1,
   "metadata": {},
   "outputs": [],
   "source": [
    "from BeeModel import BeeModel"
   ]
  },
  {
   "cell_type": "code",
   "execution_count": 8,
   "metadata": {},
   "outputs": [],
   "source": [
    "model = BeeModel(1, flower_density=0.1, width=10, height=10)"
   ]
  },
  {
   "cell_type": "code",
   "execution_count": 9,
   "metadata": {},
   "outputs": [],
   "source": [
    "bee = model.bees[0]"
   ]
  },
  {
   "cell_type": "code",
   "execution_count": 10,
   "metadata": {},
   "outputs": [
    {
     "name": "stdout",
     "output_type": "stream",
     "text": [
      "Found it!\n",
      "Found it!\n",
      "Found it!\n",
      "Found it!\n",
      "Found it!\n",
      "Found it!\n",
      "Found it!\n",
      "Found it!\n",
      "Found it!\n",
      "Found it!\n",
      "Found it!\n",
      "Found it!\n",
      "Found it!\n",
      "Found it!\n",
      "Found it!\n",
      "Found it!\n"
     ]
    }
   ],
   "source": [
    "for _ in range(100):\n",
    "    model.step()\n",
    "    if bee.on_flower:\n",
    "        print(\"Found it!\")"
   ]
  }
 ],
 "metadata": {
  "kernelspec": {
   "display_name": ".venv",
   "language": "python",
   "name": "python3"
  },
  "language_info": {
   "codemirror_mode": {
    "name": "ipython",
    "version": 3
   },
   "file_extension": ".py",
   "mimetype": "text/x-python",
   "name": "python",
   "nbconvert_exporter": "python",
   "pygments_lexer": "ipython3",
   "version": "3.10.8"
  },
  "orig_nbformat": 4
 },
 "nbformat": 4,
 "nbformat_minor": 2
}
